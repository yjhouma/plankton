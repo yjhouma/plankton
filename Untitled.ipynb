{
 "cells": [
  {
   "cell_type": "code",
   "execution_count": 22,
   "metadata": {
    "collapsed": true
   },
   "outputs": [],
   "source": [
    "import matplotlib.pyplot as plt"
   ]
  },
  {
   "cell_type": "code",
   "execution_count": 23,
   "metadata": {},
   "outputs": [],
   "source": [
    "with open('loss2.txt') as f:\n",
    "    loss = f.read().splitlines()"
   ]
  },
  {
   "cell_type": "code",
   "execution_count": 24,
   "metadata": {},
   "outputs": [],
   "source": [
    "loss = list(map(float, loss))\n"
   ]
  },
  {
   "cell_type": "code",
   "execution_count": 29,
   "metadata": {
    "collapsed": true
   },
   "outputs": [],
   "source": [
    "with open('acc2.txt') as f:\n",
    "    acc = f.read().splitlines()"
   ]
  },
  {
   "cell_type": "code",
   "execution_count": 30,
   "metadata": {
    "collapsed": true
   },
   "outputs": [],
   "source": [
    "acc = list(map(float, acc))"
   ]
  },
  {
   "cell_type": "code",
   "execution_count": 31,
   "metadata": {},
   "outputs": [
    {
     "data": {
      "image/png": "[encoded data removed]",
      "text/plain": [
       "<matplotlib.figure.Figure at 0x2d7c1d7f6d8>"
      ]
     },
     "metadata": {},
     "output_type": "display_data"
    }
   ],
   "source": [
    "plt.plot(acc)\n",
    "plt.title('Model Accuracy')\n",
    "plt.ylabel('Accuracy')\n",
    "plt.xlabel('Epoch')\n",
    "plt.show()\n"
   ]
  },
  {
   "cell_type": "code",
   "execution_count": 32,
   "metadata": {},
   "outputs": [
    {
     "data": {
      "image/png": "[encoded data removed]",
      "text/plain": [
       "<matplotlib.figure.Figure at 0x2d7c2e0a710>"
      ]
     },
     "metadata": {},
     "output_type": "display_data"
    }
   ],
   "source": [
    "plt.plot(loss)\n",
    "plt.title('Model Loss')\n",
    "plt.ylabel('Loss')\n",
    "plt.xlabel('Epoch')\n",
    "plt.show()"
   ]
  },
  {
   "cell_type": "code",
   "execution_count": 21,
   "metadata": {},
   "outputs": [
    {
     "data": {
      "text/plain": [
       "[3.79371572899,\n",
       " 2.93298459946,\n",
       " 2.52961451016,\n",
       " 2.24470252993,\n",
       " 2.08242087072,\n",
       " 2.04718717241,\n",
       " 1.92005992703,\n",
       " 1.86448079511,\n",
       " 1.80458275817,\n",
       " 1.74409728494,\n",
       " 1.73124589598,\n",
       " 1.67764981978,\n",
       " 1.63858565663,\n",
       " 1.62744523616,\n",
       " 1.63815155858,\n",
       " 1.58047260225,\n",
       " 1.55756841103,\n",
       " 1.55057467847,\n",
       " 1.54317349126,\n",
       " 1.51122566988,\n",
       " 1.49606679726,\n",
       " 1.48331227515,\n",
       " 1.47139537737,\n",
       " 1.46274879613,\n",
       " 1.45228682144,\n",
       " 1.45266780056,\n",
       " 1.44425181705,\n",
       " 1.42965073972,\n",
       " 1.40309245771,\n",
       " 1.42854633097,\n",
       " 1.40117832798,\n",
       " 1.39526653875,\n",
       " 1.48829255822,\n",
       " 1.44458081558,\n",
       " 1.3993241858,\n",
       " 1.37649820852,\n",
       " 1.46126960319,\n",
       " 1.37397446857,\n",
       " 1.37345295403,\n",
       " 1.35701564338,\n",
       " 1.45366411911,\n",
       " 1.39376435979,\n",
       " 1.35198441255,\n",
       " 1.35130882766,\n",
       " 1.34815922574,\n",
       " 1.36996730376,\n",
       " 1.42365839688,\n",
       " 1.33905451937,\n",
       " 1.33153949414,\n",
       " 1.31883581976,\n",
       " 1.31575864076,\n",
       " 1.31013618384,\n",
       " 1.32574602955,\n",
       " 1.36063792893,\n",
       " 1.30617373534,\n",
       " 1.29438623446,\n",
       " 1.29934845833,\n",
       " 1.32329208558,\n",
       " 1.30142388056,\n",
       " 1.30270588467,\n",
       " 1.28512014801,\n",
       " 1.33825257156,\n",
       " 1.28675386372,\n",
       " 1.31680756059,\n",
       " 1.27502002998,\n",
       " 1.27612078416,\n",
       " 1.27169833782,\n",
       " 1.39867334363,\n",
       " 1.2707668856,\n",
       " 1.27582984691,\n",
       " 1.34319668229,\n",
       " 1.3015696109,\n",
       " 1.26706331264,\n",
       " 1.25304690783,\n",
       " 1.26167817021,\n",
       " 1.28562553749,\n",
       " 1.25298464405,\n",
       " 1.25057269928,\n",
       " 1.27188171629,\n",
       " 1.26018150289,\n",
       " 1.24273558759,\n",
       " 1.23810146504,\n",
       " 1.27692229587,\n",
       " 1.3326030112,\n",
       " 1.330365018,\n",
       " 1.24828858296,\n",
       " 1.22881870003,\n",
       " 1.23315606112,\n",
       " 1.2307010359,\n",
       " 1.28053331488,\n",
       " 1.27268310633,\n",
       " 1.22244179,\n",
       " 1.22985148266,\n",
       " 1.26246124443,\n",
       " 1.24133388384,\n",
       " 1.26838041094,\n",
       " 1.21833472469,\n",
       " 1.21648054523,\n",
       " 1.23087147916,\n",
       " 1.22572120087]"
      ]
     },
     "execution_count": 21,
     "metadata": {},
     "output_type": "execute_result"
    }
   ],
   "source": [
    "loss"
   ]
  },
  {
   "cell_type": "code",
   "execution_count": null,
   "metadata": {
    "collapsed": true
   },
   "outputs": [],
   "source": []
  }
 ],
 "metadata": {
  "kernelspec": {
   "display_name": "Python 3",
   "language": "python",
   "name": "python3"
  },
  "language_info": {
   "codemirror_mode": {
    "name": "ipython",
    "version": 3
   },
   "file_extension": ".py",
   "mimetype": "text/x-python",
   "name": "python",
   "nbconvert_exporter": "python",
   "pygments_lexer": "ipython3",
   "version": "3.5.3"
  }
 },
 "nbformat": 4,
 "nbformat_minor": 2
}
